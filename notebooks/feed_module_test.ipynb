{
 "cells": [
  {
   "cell_type": "code",
   "execution_count": 1,
   "metadata": {
    "collapsed": false
   },
   "outputs": [],
   "source": [
    "from feed.quotes import QuotesChannel, MINUTE\n",
    "from IPython import display\n",
    "import logging\n",
    "import pprint"
   ]
  },
  {
   "cell_type": "code",
   "execution_count": null,
   "metadata": {
    "collapsed": false,
    "scrolled": false
   },
   "outputs": [
    {
     "name": "stdout",
     "output_type": "stream",
     "text": [
      "{u'type': u'welcome'}\n",
      "{u'identifier': u'{\"channel\": \"QuotesChannel\"}', u'type': u'confirm_subscription'}\n",
      "{u'message': 1471468705, u'type': u'ping'}\n",
      "{u'message': 1471468708, u'type': u'ping'}\n",
      "{u'message': 1471468711, u'type': u'ping'}\n"
     ]
    }
   ],
   "source": [
    "times = []\n",
    "def on_quotes(quotes):\n",
    "    times.append(quotes[0]['created_at'])\n",
    "    display.clear_output(wait=True)\n",
    "    pprint.pprint(times)\n",
    "    \n",
    "qc = QuotesChannel(MINUTE, on_quotes=on_quotes)"
   ]
  },
  {
   "cell_type": "code",
   "execution_count": null,
   "metadata": {
    "collapsed": true
   },
   "outputs": [],
   "source": []
  }
 ],
 "metadata": {
  "kernelspec": {
   "display_name": "Python 2",
   "language": "python",
   "name": "python2"
  },
  "language_info": {
   "codemirror_mode": {
    "name": "ipython",
    "version": 2
   },
   "file_extension": ".py",
   "mimetype": "text/x-python",
   "name": "python",
   "nbconvert_exporter": "python",
   "pygments_lexer": "ipython2",
   "version": "2.7.11"
  }
 },
 "nbformat": 4,
 "nbformat_minor": 1
}
